{
 "cells": [
  {
   "cell_type": "code",
   "execution_count": 1,
   "id": "bac829ba",
   "metadata": {},
   "outputs": [],
   "source": [
    "import pandas as pd\n",
    "import os"
   ]
  },
  {
   "cell_type": "code",
   "execution_count": 2,
   "id": "d620dfee",
   "metadata": {},
   "outputs": [],
   "source": [
    "dataset = pd.DataFrame(columns = [0,1,2,3,4])\n",
    "csv_list = [\"D:/\" + i for i in os.listdir(\"/\") if \".csv\" in i]\n",
    "\n",
    "for file in csv_list:\n",
    "    #file = csv_list[0]\n",
    "    data = pd.read_csv(file, header=None)\n",
    "    data.drop_duplicates(inplace=True)\n",
    "    data.drop_duplicates(inplace=True, subset=2)\n",
    "    data.dropna(axis=0, inplace=True)\n",
    "\n",
    "    city, department = file.split(\"/\")[-1][:-4].split(\"_\")\n",
    "    data[3], data[4] = city, department\n",
    "    dataset = dataset.append(data)"
   ]
  },
  {
   "cell_type": "code",
   "execution_count": 3,
   "id": "23c65d91",
   "metadata": {},
   "outputs": [],
   "source": [
    "dataset.columns = [\"Name\", \"Address\", \"ContactNo\", \"City\", \"Department\"]"
   ]
  },
  {
   "cell_type": "code",
   "execution_count": 4,
   "id": "c327d100",
   "metadata": {},
   "outputs": [],
   "source": [
    "dataset.to_csv(\"D:/Dataset.csv\")"
   ]
  },
  {
   "cell_type": "code",
   "execution_count": null,
   "id": "792ea70f",
   "metadata": {},
   "outputs": [],
   "source": []
  }
 ],
 "metadata": {
  "kernelspec": {
   "display_name": "Python 3",
   "language": "python",
   "name": "python3"
  },
  "language_info": {
   "codemirror_mode": {
    "name": "ipython",
    "version": 3
   },
   "file_extension": ".py",
   "mimetype": "text/x-python",
   "name": "python",
   "nbconvert_exporter": "python",
   "pygments_lexer": "ipython3",
   "version": "3.8.8"
  }
 },
 "nbformat": 4,
 "nbformat_minor": 5
}
