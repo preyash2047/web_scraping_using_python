{
 "cells": [
  {
   "cell_type": "code",
   "execution_count": null,
   "id": "c3a96523",
   "metadata": {},
   "outputs": [],
   "source": [
    "from JD import website\n",
    "pages = 100\n",
    "\n",
    "for city in [\"mumbai\",\"vadodara\", \"kheda\", \"pune\", \"anand\", \"panchmahal\", \"gandhinagar\", \"surat\" ]:\n",
    "    for i in range(1,pages):\n",
    "        url = \"https://www.justdial.com/\"+ city +\"/Salons-At-Home/nct-11576223/page-\"+str(i)\n",
    "        url_split = url.split(\"/\")[3:]\n",
    "        filename = url_split[0] + \"_\" + url_split[1]\n",
    "        if len(website(url,filename)) == 0:\n",
    "            print(\"Process Done\")\n",
    "            break\n",
    "        print(\"Page No \"+ str(i) +\" done\")\n",
    "    print(\"City: \", city)\n",
    "    print(\"*\"*50)"
   ]
  },
  {
   "cell_type": "code",
   "execution_count": null,
   "id": "5f1cca4f",
   "metadata": {},
   "outputs": [],
   "source": []
  }
 ],
 "metadata": {
  "kernelspec": {
   "display_name": "Python 3",
   "language": "python",
   "name": "python3"
  },
  "language_info": {
   "codemirror_mode": {
    "name": "ipython",
    "version": 3
   },
   "file_extension": ".py",
   "mimetype": "text/x-python",
   "name": "python",
   "nbconvert_exporter": "python",
   "pygments_lexer": "ipython3",
   "version": "3.8.8"
  }
 },
 "nbformat": 4,
 "nbformat_minor": 5
}
